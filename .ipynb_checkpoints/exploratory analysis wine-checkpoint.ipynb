{
 "cells": [
  {
   "cell_type": "code",
   "execution_count": 1,
   "metadata": {},
   "outputs": [],
   "source": [
    "#import dependencies\n",
    "%matplotlib notebook\n",
    "import pandas as pd\n",
    "import matplotlib.pyplot as plt\n",
    "import numpy as np"
   ]
  },
  {
   "cell_type": "code",
   "execution_count": 2,
   "metadata": {},
   "outputs": [
    {
     "data": {
      "text/html": [
       "<div>\n",
       "<style scoped>\n",
       "    .dataframe tbody tr th:only-of-type {\n",
       "        vertical-align: middle;\n",
       "    }\n",
       "\n",
       "    .dataframe tbody tr th {\n",
       "        vertical-align: top;\n",
       "    }\n",
       "\n",
       "    .dataframe thead th {\n",
       "        text-align: right;\n",
       "    }\n",
       "</style>\n",
       "<table border=\"1\" class=\"dataframe\">\n",
       "  <thead>\n",
       "    <tr style=\"text-align: right;\">\n",
       "      <th></th>\n",
       "      <th>country</th>\n",
       "      <th>description</th>\n",
       "      <th>designation</th>\n",
       "      <th>points</th>\n",
       "      <th>price</th>\n",
       "      <th>province</th>\n",
       "      <th>region_1</th>\n",
       "      <th>variety</th>\n",
       "      <th>winery</th>\n",
       "    </tr>\n",
       "  </thead>\n",
       "  <tbody>\n",
       "    <tr>\n",
       "      <th>0</th>\n",
       "      <td>US</td>\n",
       "      <td>This tremendous 100% varietal wine hails from ...</td>\n",
       "      <td>Martha's Vineyard</td>\n",
       "      <td>96</td>\n",
       "      <td>235.0</td>\n",
       "      <td>California</td>\n",
       "      <td>Napa Valley</td>\n",
       "      <td>Cabernet Sauvignon</td>\n",
       "      <td>Heitz</td>\n",
       "    </tr>\n",
       "    <tr>\n",
       "      <th>1</th>\n",
       "      <td>Spain</td>\n",
       "      <td>Ripe aromas of fig, blackberry and cassis are ...</td>\n",
       "      <td>Carodorum SelecciÃ³n Especial Reserva</td>\n",
       "      <td>96</td>\n",
       "      <td>110.0</td>\n",
       "      <td>Northern Spain</td>\n",
       "      <td>Toro</td>\n",
       "      <td>Tinta de Toro</td>\n",
       "      <td>Bodega Carmen RodrÃ­guez</td>\n",
       "    </tr>\n",
       "    <tr>\n",
       "      <th>2</th>\n",
       "      <td>US</td>\n",
       "      <td>Mac Watson honors the memory of a wine once ma...</td>\n",
       "      <td>Special Selected Late Harvest</td>\n",
       "      <td>96</td>\n",
       "      <td>90.0</td>\n",
       "      <td>California</td>\n",
       "      <td>Knights Valley</td>\n",
       "      <td>Sauvignon Blanc</td>\n",
       "      <td>Macauley</td>\n",
       "    </tr>\n",
       "    <tr>\n",
       "      <th>3</th>\n",
       "      <td>US</td>\n",
       "      <td>This spent 20 months in 30% new French oak, an...</td>\n",
       "      <td>Reserve</td>\n",
       "      <td>96</td>\n",
       "      <td>65.0</td>\n",
       "      <td>Oregon</td>\n",
       "      <td>Willamette Valley</td>\n",
       "      <td>Pinot Noir</td>\n",
       "      <td>Ponzi</td>\n",
       "    </tr>\n",
       "    <tr>\n",
       "      <th>4</th>\n",
       "      <td>France</td>\n",
       "      <td>This is the top wine from La BÃ©gude, named af...</td>\n",
       "      <td>La BrÃ»lade</td>\n",
       "      <td>95</td>\n",
       "      <td>66.0</td>\n",
       "      <td>Provence</td>\n",
       "      <td>Bandol</td>\n",
       "      <td>Provence red blend</td>\n",
       "      <td>Domaine de la BÃ©gude</td>\n",
       "    </tr>\n",
       "    <tr>\n",
       "      <th>...</th>\n",
       "      <td>...</td>\n",
       "      <td>...</td>\n",
       "      <td>...</td>\n",
       "      <td>...</td>\n",
       "      <td>...</td>\n",
       "      <td>...</td>\n",
       "      <td>...</td>\n",
       "      <td>...</td>\n",
       "      <td>...</td>\n",
       "    </tr>\n",
       "    <tr>\n",
       "      <th>150925</th>\n",
       "      <td>Italy</td>\n",
       "      <td>Many people feel Fiano represents southern Ita...</td>\n",
       "      <td>NaN</td>\n",
       "      <td>91</td>\n",
       "      <td>20.0</td>\n",
       "      <td>Southern Italy</td>\n",
       "      <td>Fiano di Avellino</td>\n",
       "      <td>White Blend</td>\n",
       "      <td>Feudi di San Gregorio</td>\n",
       "    </tr>\n",
       "    <tr>\n",
       "      <th>150926</th>\n",
       "      <td>France</td>\n",
       "      <td>Offers an intriguing nose with ginger, lime an...</td>\n",
       "      <td>CuvÃ©e Prestige</td>\n",
       "      <td>91</td>\n",
       "      <td>27.0</td>\n",
       "      <td>Champagne</td>\n",
       "      <td>Champagne</td>\n",
       "      <td>Champagne Blend</td>\n",
       "      <td>H.Germain</td>\n",
       "    </tr>\n",
       "    <tr>\n",
       "      <th>150927</th>\n",
       "      <td>Italy</td>\n",
       "      <td>This classic example comes from a cru vineyard...</td>\n",
       "      <td>Terre di Dora</td>\n",
       "      <td>91</td>\n",
       "      <td>20.0</td>\n",
       "      <td>Southern Italy</td>\n",
       "      <td>Fiano di Avellino</td>\n",
       "      <td>White Blend</td>\n",
       "      <td>Terredora</td>\n",
       "    </tr>\n",
       "    <tr>\n",
       "      <th>150928</th>\n",
       "      <td>France</td>\n",
       "      <td>A perfect salmon shade, with scents of peaches...</td>\n",
       "      <td>Grand Brut RosÃ©</td>\n",
       "      <td>90</td>\n",
       "      <td>52.0</td>\n",
       "      <td>Champagne</td>\n",
       "      <td>Champagne</td>\n",
       "      <td>Champagne Blend</td>\n",
       "      <td>Gosset</td>\n",
       "    </tr>\n",
       "    <tr>\n",
       "      <th>150929</th>\n",
       "      <td>Italy</td>\n",
       "      <td>More Pinot Grigios should taste like this. A r...</td>\n",
       "      <td>NaN</td>\n",
       "      <td>90</td>\n",
       "      <td>15.0</td>\n",
       "      <td>Northeastern Italy</td>\n",
       "      <td>Alto Adige</td>\n",
       "      <td>Pinot Grigio</td>\n",
       "      <td>Alois Lageder</td>\n",
       "    </tr>\n",
       "  </tbody>\n",
       "</table>\n",
       "<p>150930 rows × 9 columns</p>\n",
       "</div>"
      ],
      "text/plain": [
       "       country                                        description  \\\n",
       "0           US  This tremendous 100% varietal wine hails from ...   \n",
       "1        Spain  Ripe aromas of fig, blackberry and cassis are ...   \n",
       "2           US  Mac Watson honors the memory of a wine once ma...   \n",
       "3           US  This spent 20 months in 30% new French oak, an...   \n",
       "4       France  This is the top wine from La BÃ©gude, named af...   \n",
       "...        ...                                                ...   \n",
       "150925   Italy  Many people feel Fiano represents southern Ita...   \n",
       "150926  France  Offers an intriguing nose with ginger, lime an...   \n",
       "150927   Italy  This classic example comes from a cru vineyard...   \n",
       "150928  France  A perfect salmon shade, with scents of peaches...   \n",
       "150929   Italy  More Pinot Grigios should taste like this. A r...   \n",
       "\n",
       "                                  designation  points  price  \\\n",
       "0                           Martha's Vineyard      96  235.0   \n",
       "1       Carodorum SelecciÃ³n Especial Reserva      96  110.0   \n",
       "2               Special Selected Late Harvest      96   90.0   \n",
       "3                                     Reserve      96   65.0   \n",
       "4                                 La BrÃ»lade      95   66.0   \n",
       "...                                       ...     ...    ...   \n",
       "150925                                    NaN      91   20.0   \n",
       "150926                        CuvÃ©e Prestige      91   27.0   \n",
       "150927                          Terre di Dora      91   20.0   \n",
       "150928                       Grand Brut RosÃ©      90   52.0   \n",
       "150929                                    NaN      90   15.0   \n",
       "\n",
       "                  province           region_1             variety  \\\n",
       "0               California        Napa Valley  Cabernet Sauvignon   \n",
       "1           Northern Spain               Toro       Tinta de Toro   \n",
       "2               California     Knights Valley     Sauvignon Blanc   \n",
       "3                   Oregon  Willamette Valley          Pinot Noir   \n",
       "4                 Provence             Bandol  Provence red blend   \n",
       "...                    ...                ...                 ...   \n",
       "150925      Southern Italy  Fiano di Avellino         White Blend   \n",
       "150926           Champagne          Champagne     Champagne Blend   \n",
       "150927      Southern Italy  Fiano di Avellino         White Blend   \n",
       "150928           Champagne          Champagne     Champagne Blend   \n",
       "150929  Northeastern Italy         Alto Adige        Pinot Grigio   \n",
       "\n",
       "                          winery  \n",
       "0                          Heitz  \n",
       "1       Bodega Carmen RodrÃ­guez  \n",
       "2                       Macauley  \n",
       "3                          Ponzi  \n",
       "4          Domaine de la BÃ©gude  \n",
       "...                          ...  \n",
       "150925     Feudi di San Gregorio  \n",
       "150926                 H.Germain  \n",
       "150927                 Terredora  \n",
       "150928                    Gosset  \n",
       "150929             Alois Lageder  \n",
       "\n",
       "[150930 rows x 9 columns]"
      ]
     },
     "execution_count": 2,
     "metadata": {},
     "output_type": "execute_result"
    }
   ],
   "source": [
    "#clean data\n",
    "wine_dataframe=pd.read_csv(\"Resources/wine_dataset.csv\")\n",
    "wine_dataframe_clean=wine_dataframe.drop([\"Unnamed: 0\",\"region_2\"], axis=1)\n",
    "wine_dataframe_clean"
   ]
  },
  {
   "cell_type": "code",
   "execution_count": 3,
   "metadata": {},
   "outputs": [
    {
     "data": {
      "text/html": [
       "<div>\n",
       "<style scoped>\n",
       "    .dataframe tbody tr th:only-of-type {\n",
       "        vertical-align: middle;\n",
       "    }\n",
       "\n",
       "    .dataframe tbody tr th {\n",
       "        vertical-align: top;\n",
       "    }\n",
       "\n",
       "    .dataframe thead th {\n",
       "        text-align: right;\n",
       "    }\n",
       "</style>\n",
       "<table border=\"1\" class=\"dataframe\">\n",
       "  <thead>\n",
       "    <tr style=\"text-align: right;\">\n",
       "      <th></th>\n",
       "      <th>country</th>\n",
       "      <th>description</th>\n",
       "      <th>designation</th>\n",
       "      <th>points</th>\n",
       "      <th>price</th>\n",
       "      <th>province</th>\n",
       "      <th>region_1</th>\n",
       "      <th>variety</th>\n",
       "      <th>winery</th>\n",
       "    </tr>\n",
       "  </thead>\n",
       "  <tbody>\n",
       "    <tr>\n",
       "      <th>0</th>\n",
       "      <td>US</td>\n",
       "      <td>This tremendous 100% varietal wine hails from ...</td>\n",
       "      <td>Martha's Vineyard</td>\n",
       "      <td>96</td>\n",
       "      <td>235.0</td>\n",
       "      <td>California</td>\n",
       "      <td>Napa Valley</td>\n",
       "      <td>Cabernet Sauvignon</td>\n",
       "      <td>Heitz</td>\n",
       "    </tr>\n",
       "    <tr>\n",
       "      <th>1</th>\n",
       "      <td>Spain</td>\n",
       "      <td>Ripe aromas of fig, blackberry and cassis are ...</td>\n",
       "      <td>Carodorum SelecciÃ³n Especial Reserva</td>\n",
       "      <td>96</td>\n",
       "      <td>110.0</td>\n",
       "      <td>Northern Spain</td>\n",
       "      <td>Toro</td>\n",
       "      <td>Tinta de Toro</td>\n",
       "      <td>Bodega Carmen RodrÃ­guez</td>\n",
       "    </tr>\n",
       "    <tr>\n",
       "      <th>2</th>\n",
       "      <td>US</td>\n",
       "      <td>Mac Watson honors the memory of a wine once ma...</td>\n",
       "      <td>Special Selected Late Harvest</td>\n",
       "      <td>96</td>\n",
       "      <td>90.0</td>\n",
       "      <td>California</td>\n",
       "      <td>Knights Valley</td>\n",
       "      <td>Sauvignon Blanc</td>\n",
       "      <td>Macauley</td>\n",
       "    </tr>\n",
       "    <tr>\n",
       "      <th>3</th>\n",
       "      <td>US</td>\n",
       "      <td>This spent 20 months in 30% new French oak, an...</td>\n",
       "      <td>Reserve</td>\n",
       "      <td>96</td>\n",
       "      <td>65.0</td>\n",
       "      <td>Oregon</td>\n",
       "      <td>Willamette Valley</td>\n",
       "      <td>Pinot Noir</td>\n",
       "      <td>Ponzi</td>\n",
       "    </tr>\n",
       "    <tr>\n",
       "      <th>4</th>\n",
       "      <td>France</td>\n",
       "      <td>This is the top wine from La BÃ©gude, named af...</td>\n",
       "      <td>La BrÃ»lade</td>\n",
       "      <td>95</td>\n",
       "      <td>66.0</td>\n",
       "      <td>Provence</td>\n",
       "      <td>Bandol</td>\n",
       "      <td>Provence red blend</td>\n",
       "      <td>Domaine de la BÃ©gude</td>\n",
       "    </tr>\n",
       "    <tr>\n",
       "      <th>...</th>\n",
       "      <td>...</td>\n",
       "      <td>...</td>\n",
       "      <td>...</td>\n",
       "      <td>...</td>\n",
       "      <td>...</td>\n",
       "      <td>...</td>\n",
       "      <td>...</td>\n",
       "      <td>...</td>\n",
       "      <td>...</td>\n",
       "    </tr>\n",
       "    <tr>\n",
       "      <th>150923</th>\n",
       "      <td>France</td>\n",
       "      <td>Rich and toasty, with tiny bubbles. The bouque...</td>\n",
       "      <td>Demi-Sec</td>\n",
       "      <td>91</td>\n",
       "      <td>30.0</td>\n",
       "      <td>Champagne</td>\n",
       "      <td>Champagne</td>\n",
       "      <td>Champagne Blend</td>\n",
       "      <td>Jacquart</td>\n",
       "    </tr>\n",
       "    <tr>\n",
       "      <th>150924</th>\n",
       "      <td>France</td>\n",
       "      <td>Really fine for a low-acid vintage, there's an...</td>\n",
       "      <td>Diamant Bleu</td>\n",
       "      <td>91</td>\n",
       "      <td>70.0</td>\n",
       "      <td>Champagne</td>\n",
       "      <td>Champagne</td>\n",
       "      <td>Champagne Blend</td>\n",
       "      <td>Heidsieck &amp; Co Monopole</td>\n",
       "    </tr>\n",
       "    <tr>\n",
       "      <th>150926</th>\n",
       "      <td>France</td>\n",
       "      <td>Offers an intriguing nose with ginger, lime an...</td>\n",
       "      <td>CuvÃ©e Prestige</td>\n",
       "      <td>91</td>\n",
       "      <td>27.0</td>\n",
       "      <td>Champagne</td>\n",
       "      <td>Champagne</td>\n",
       "      <td>Champagne Blend</td>\n",
       "      <td>H.Germain</td>\n",
       "    </tr>\n",
       "    <tr>\n",
       "      <th>150927</th>\n",
       "      <td>Italy</td>\n",
       "      <td>This classic example comes from a cru vineyard...</td>\n",
       "      <td>Terre di Dora</td>\n",
       "      <td>91</td>\n",
       "      <td>20.0</td>\n",
       "      <td>Southern Italy</td>\n",
       "      <td>Fiano di Avellino</td>\n",
       "      <td>White Blend</td>\n",
       "      <td>Terredora</td>\n",
       "    </tr>\n",
       "    <tr>\n",
       "      <th>150928</th>\n",
       "      <td>France</td>\n",
       "      <td>A perfect salmon shade, with scents of peaches...</td>\n",
       "      <td>Grand Brut RosÃ©</td>\n",
       "      <td>90</td>\n",
       "      <td>52.0</td>\n",
       "      <td>Champagne</td>\n",
       "      <td>Champagne</td>\n",
       "      <td>Champagne Blend</td>\n",
       "      <td>Gosset</td>\n",
       "    </tr>\n",
       "  </tbody>\n",
       "</table>\n",
       "<p>77284 rows × 9 columns</p>\n",
       "</div>"
      ],
      "text/plain": [
       "       country                                        description  \\\n",
       "0           US  This tremendous 100% varietal wine hails from ...   \n",
       "1        Spain  Ripe aromas of fig, blackberry and cassis are ...   \n",
       "2           US  Mac Watson honors the memory of a wine once ma...   \n",
       "3           US  This spent 20 months in 30% new French oak, an...   \n",
       "4       France  This is the top wine from La BÃ©gude, named af...   \n",
       "...        ...                                                ...   \n",
       "150923  France  Rich and toasty, with tiny bubbles. The bouque...   \n",
       "150924  France  Really fine for a low-acid vintage, there's an...   \n",
       "150926  France  Offers an intriguing nose with ginger, lime an...   \n",
       "150927   Italy  This classic example comes from a cru vineyard...   \n",
       "150928  France  A perfect salmon shade, with scents of peaches...   \n",
       "\n",
       "                                  designation  points  price        province  \\\n",
       "0                           Martha's Vineyard      96  235.0      California   \n",
       "1       Carodorum SelecciÃ³n Especial Reserva      96  110.0  Northern Spain   \n",
       "2               Special Selected Late Harvest      96   90.0      California   \n",
       "3                                     Reserve      96   65.0          Oregon   \n",
       "4                                 La BrÃ»lade      95   66.0        Provence   \n",
       "...                                       ...     ...    ...             ...   \n",
       "150923                               Demi-Sec      91   30.0       Champagne   \n",
       "150924                           Diamant Bleu      91   70.0       Champagne   \n",
       "150926                        CuvÃ©e Prestige      91   27.0       Champagne   \n",
       "150927                          Terre di Dora      91   20.0  Southern Italy   \n",
       "150928                       Grand Brut RosÃ©      90   52.0       Champagne   \n",
       "\n",
       "                 region_1             variety                    winery  \n",
       "0             Napa Valley  Cabernet Sauvignon                     Heitz  \n",
       "1                    Toro       Tinta de Toro  Bodega Carmen RodrÃ­guez  \n",
       "2          Knights Valley     Sauvignon Blanc                  Macauley  \n",
       "3       Willamette Valley          Pinot Noir                     Ponzi  \n",
       "4                  Bandol  Provence red blend     Domaine de la BÃ©gude  \n",
       "...                   ...                 ...                       ...  \n",
       "150923          Champagne     Champagne Blend                  Jacquart  \n",
       "150924          Champagne     Champagne Blend   Heidsieck & Co Monopole  \n",
       "150926          Champagne     Champagne Blend                 H.Germain  \n",
       "150927  Fiano di Avellino         White Blend                 Terredora  \n",
       "150928          Champagne     Champagne Blend                    Gosset  \n",
       "\n",
       "[77284 rows x 9 columns]"
      ]
     },
     "execution_count": 3,
     "metadata": {},
     "output_type": "execute_result"
    }
   ],
   "source": [
    "clean_wine_data=wine_dataframe_clean.dropna()\n",
    "clean_wine_data"
   ]
  },
  {
   "cell_type": "code",
   "execution_count": null,
   "metadata": {},
   "outputs": [],
   "source": [
    "#count breakdown\n",
    "points_count=clean_wine_data[\"points\"].value_counts().tolist()\n",
    "points_labels=clean_wine_data[\"points\"].unique()\n",
    "points_labels\n",
    "points_count\n",
    "\n",
    "#chart for point breakdown\n",
    "plt.bar(points_labels,points_count, color='b')\n",
    "\n",
    "plt.title(\"Wine Point Count\")\n",
    "plt.xlabel(\"Points Won by Wines in Dataset\")\n",
    "plt.ylabel(\"Frequency of Points\")"
   ]
  },
  {
   "cell_type": "code",
   "execution_count": null,
   "metadata": {},
   "outputs": [],
   "source": [
    "variety_count=clean_wine_data[\"variety\"].value_counts().tolist()\n",
    "variety_labels=clean_wine_data[\"variety\"].unique()\n",
    "variety_num=len(variety_labels)\n",
    "variety_num\n"
   ]
  },
  {
   "cell_type": "code",
   "execution_count": null,
   "metadata": {},
   "outputs": [],
   "source": [
    "winery_count=clean_wine_data[\"winery\"].value_counts().tolist()\n",
    "winery_labels=clean_wine_data[\"winery\"].unique()\n",
    "number_winery=len(winery_labels)\n",
    "number_winery\n"
   ]
  },
  {
   "cell_type": "code",
   "execution_count": 9,
   "metadata": {},
   "outputs": [],
   "source": [
    "country_count=clean_wine_data[\"country\"].value_counts()\n",
    "country_labels=clean_wine_data[\"country\"].unique()\n",
    "\n",
    "#variety chart\n",
    "# plt.bar(country_labels,country_count, color='b')\n",
    "# plt.title(\"Country Count for Wine in Dataset\")\n",
    "# plt.xlabel(\"Countries the Wines are from\")\n",
    "# plt.ylabel(\"Country Frequency\")\n"
   ]
  },
  {
   "cell_type": "code",
   "execution_count": null,
   "metadata": {},
   "outputs": [],
   "source": [
    "#sort by country and then point break down and determine the percentage of wines that score well for each of the countries\n",
    "usa_country_count=clean_wine_data.loc[(clean_wine_data[\"country\"]==\"US\")]\n",
    "point_breakdown_usa=usa_country_count[\"points\"].value_counts().tolist()\n",
    "point_breakdown_usa_labels=usa_country_count[\"points\"].unique()\n",
    "point_breakdown_usa_labels\n",
    "\n",
    "plt.bar(point_breakdown_usa_labels,point_breakdown_usa, color='b')\n",
    "plt.title(\"USA Count for Wine in Dataset\")\n",
    "plt.xlabel(\"Countries the Wines are from\")\n",
    "plt.ylabel(\"Country Frequency\")"
   ]
  },
  {
   "cell_type": "code",
   "execution_count": null,
   "metadata": {},
   "outputs": [],
   "source": [
    "spain_country_count=clean_wine_data.loc[(clean_wine_data[\"country\"]==\"Spain\")]\n",
    "point_breakdown_spain=spain_country_count[\"points\"].value_counts().tolist()\n",
    "point_breakdown_spain_labels=spain_country_count[\"points\"].unique()\n",
    "point_breakdown_usa_labels\n",
    "\n",
    "plt.bar(point_breakdown_spain_labels,point_breakdown_spain, color='r')\n",
    "plt.title(\"Spain Count for Wine in Dataset\")\n",
    "plt.xlabel(\"Points from Spain\")\n",
    "plt.ylabel(\"Point Frequency Spain\")\n",
    "# pbs_ascending=point_breakdown_spain.sort_values(ascending=True)\n",
    "# pbs_ascending"
   ]
  },
  {
   "cell_type": "code",
   "execution_count": null,
   "metadata": {},
   "outputs": [],
   "source": [
    "france_country_count=clean_wine_data.loc[(clean_wine_data[\"country\"]==\"France\")]\n",
    "point_breakdown_france=france_country_count[\"points\"].value_counts().tolist()\n",
    "point_breakdown_france_labels=france_country_count[\"points\"].unique()\n",
    "\n",
    "\n",
    "plt.bar(point_breakdown_france_labels,point_breakdown_france, color='y')\n",
    "plt.title(\"France Count for Wine in Dataset\")\n",
    "plt.xlabel(\"Points from France\")\n",
    "plt.ylabel(\"Point Frequency France\")"
   ]
  },
  {
   "cell_type": "code",
   "execution_count": null,
   "metadata": {},
   "outputs": [],
   "source": [
    "italy_country_count=clean_wine_data.loc[(clean_wine_data[\"country\"]==\"Italy\")]\n",
    "point_breakdown_italy=italy_country_count[\"points\"].value_counts().tolist()\n",
    "point_breakdown_italy_labels=italy_country_count[\"points\"].unique()\n",
    "\n",
    "\n",
    "plt.bar(point_breakdown_italy_labels,point_breakdown_italy, color='g')\n",
    "plt.title(\"Italy Count for Wine in Dataset\")\n",
    "plt.xlabel(\"Points from Italy\")\n",
    "plt.ylabel(\"Point Frequency Italy\")"
   ]
  },
  {
   "cell_type": "code",
   "execution_count": null,
   "metadata": {},
   "outputs": [],
   "source": [
    "argentina_country_count=clean_wine_data.loc[(clean_wine_data[\"country\"]==\"Argentina\")]\n",
    "point_breakdown_argentina=argentina_country_count[\"points\"].value_counts()\n",
    "point_breakdown_argentina_labels=argentina_country_count[\"points\"].unique()\n",
    "\n",
    "\n",
    "plt.bar(point_breakdown_argentina_labels,point_breakdown_argentina, color='c')\n",
    "plt.title(\"Argentina Count for Wine in Dataset\")\n",
    "plt.xlabel(\"Points from Argentina\")\n",
    "plt.ylabel(\"Point Frequency Argentina\")"
   ]
  },
  {
   "cell_type": "code",
   "execution_count": null,
   "metadata": {},
   "outputs": [],
   "source": [
    "#problem with canada doesnt makes sense the point breakdown \n",
    "canada_country_count=clean_wine_data.loc[(clean_wine_data[\"country\"]==\"Canada\")]\n",
    "point_breakdown_canada=canada_country_count[\"points\"].value_counts().tolist()\n",
    "point_breakdown_canada\n",
    "# point_breakdown_canada=canada_country_count[\"points\"].value_counts()\n",
    "# point_breakdown_canada"
   ]
  },
  {
   "cell_type": "code",
   "execution_count": null,
   "metadata": {},
   "outputs": [],
   "source": [
    "australia_country_count=clean_wine_data.loc[(clean_wine_data[\"country\"]==\"Australia\")]\n",
    "point_breakdown_australia=australia_country_count[\"points\"].value_counts().tolist()\n",
    "point_breakdown_australia\n",
    "\n"
   ]
  },
  {
   "cell_type": "code",
   "execution_count": 4,
   "metadata": {},
   "outputs": [
    {
     "data": {
      "text/plain": [
       "count    77284.000000\n",
       "mean        88.231678\n",
       "std          3.303169\n",
       "min         80.000000\n",
       "25%         86.000000\n",
       "50%         88.000000\n",
       "75%         91.000000\n",
       "max        100.000000\n",
       "Name: points, dtype: float64"
      ]
     },
     "execution_count": 4,
     "metadata": {},
     "output_type": "execute_result"
    }
   ],
   "source": [
    "summary_stat_points=clean_wine_data[\"points\"].describe()\n",
    "summary_stat_points"
   ]
  },
  {
   "cell_type": "code",
   "execution_count": 16,
   "metadata": {},
   "outputs": [
    {
     "data": {
      "text/plain": [
       "US           4736\n",
       "France       1258\n",
       "Italy        1156\n",
       "Spain         269\n",
       "Australia     227\n",
       "Argentina     114\n",
       "Canada          3\n",
       "Name: country, dtype: int64"
      ]
     },
     "execution_count": 16,
     "metadata": {},
     "output_type": "execute_result"
    }
   ],
   "source": [
    "filter_df=clean_wine_data.loc[(clean_wine_data[\"points\"]>=93) & (clean_wine_data[\"points\"]<=96)]\n",
    "country_filter=filter_df[\"country\"].value_counts()\n",
    "country_filter\n",
    "# summary=filter_df.groupby([\"points\"])"
   ]
  },
  {
   "cell_type": "code",
   "execution_count": 17,
   "metadata": {},
   "outputs": [
    {
     "data": {
      "text/plain": [
       "3307"
      ]
     },
     "execution_count": 17,
     "metadata": {},
     "output_type": "execute_result"
    }
   ],
   "source": [
    "count_us=len(clean_wine_data.loc[(clean_wine_data[\"country\"]==\"US\")])\n",
    "count_italy=len(clean_wine_data.loc[(clean_wine_data[\"country\"]==\"Italy\")])\n",
    "count_spain=len(clean_wine_data.loc[(clean_wine_data[\"country\"]==\"Spain\")])\n",
    "count_france=len(clean_wine_data.loc[(clean_wine_data[\"country\"]==\"France\")])\n",
    "count_argentina=len(clean_wine_data.loc[(clean_wine_data[\"country\"]==\"Argentina\")])\n",
    "count_canada=len(clean_wine_data.loc[(clean_wine_data[\"country\"]==\"Canada\")])\n",
    "count_australia=len(clean_wine_data.loc[(clean_wine_data[\"country\"]==\"Australia\")])\n",
    "count_australia"
   ]
  },
  {
   "cell_type": "code",
   "execution_count": 18,
   "metadata": {},
   "outputs": [
    {
     "data": {
      "text/plain": [
       "227"
      ]
     },
     "execution_count": 18,
     "metadata": {},
     "output_type": "execute_result"
    }
   ],
   "source": [
    "count_us_filter=len(filter_df.loc[(filter_df[\"country\"]==\"US\")])\n",
    "count_italy_filter=len(filter_df.loc[(filter_df[\"country\"]==\"Italy\")])\n",
    "count_spain_filter=len(filter_df.loc[(filter_df[\"country\"]==\"Spain\")])\n",
    "count_france_filter=len(filter_df.loc[(filter_df[\"country\"]==\"France\")])\n",
    "count_argentina_filter=len(filter_df.loc[(filter_df[\"country\"]==\"Argentina\")])\n",
    "count_canada_filter=len(filter_df.loc[(filter_df[\"country\"]==\"Canada\")])\n",
    "count_australia_filter=len(filter_df.loc[(filter_df[\"country\"]==\"Australia\")])\n",
    "count_australia_filter"
   ]
  },
  {
   "cell_type": "code",
   "execution_count": null,
   "metadata": {},
   "outputs": [],
   "source": [
    "#percent of wines from the countries that scored between 93 and 96"
   ]
  },
  {
   "cell_type": "code",
   "execution_count": 19,
   "metadata": {},
   "outputs": [
    {
     "data": {
      "text/plain": [
       "11.821971493472455"
      ]
     },
     "execution_count": 19,
     "metadata": {},
     "output_type": "execute_result"
    }
   ],
   "source": [
    "usa_percent=(count_us_filter/count_us)*100\n",
    "usa_percent"
   ]
  },
  {
   "cell_type": "code",
   "execution_count": 20,
   "metadata": {},
   "outputs": [
    {
     "data": {
      "text/plain": [
       "8.612725376247951"
      ]
     },
     "execution_count": 20,
     "metadata": {},
     "output_type": "execute_result"
    }
   ],
   "source": [
    "italy_percent=(count_italy_filter/count_italy)*100\n",
    "italy_percent"
   ]
  },
  {
   "cell_type": "code",
   "execution_count": 21,
   "metadata": {},
   "outputs": [
    {
     "data": {
      "text/plain": [
       "4.166021372154251"
      ]
     },
     "execution_count": 21,
     "metadata": {},
     "output_type": "execute_result"
    }
   ],
   "source": [
    "spain_percent=(count_spain_filter/count_spain)*100\n",
    "spain_percent"
   ]
  },
  {
   "cell_type": "code",
   "execution_count": 22,
   "metadata": {},
   "outputs": [
    {
     "data": {
      "text/plain": [
       "12.586293146573288"
      ]
     },
     "execution_count": 22,
     "metadata": {},
     "output_type": "execute_result"
    }
   ],
   "source": [
    "france_percent=(count_france_filter/count_france)*100\n",
    "france_percent"
   ]
  },
  {
   "cell_type": "code",
   "execution_count": 23,
   "metadata": {},
   "outputs": [
    {
     "data": {
      "text/plain": [
       "2.9238266222108233"
      ]
     },
     "execution_count": 23,
     "metadata": {},
     "output_type": "execute_result"
    }
   ],
   "source": [
    "argentina_percent=(count_argentina_filter/count_argentina)*100\n",
    "argentina_percent"
   ]
  },
  {
   "cell_type": "code",
   "execution_count": 24,
   "metadata": {},
   "outputs": [
    {
     "data": {
      "text/plain": [
       "2.097902097902098"
      ]
     },
     "execution_count": 24,
     "metadata": {},
     "output_type": "execute_result"
    }
   ],
   "source": [
    "canada_percent=(count_canada_filter/count_canada)*100\n",
    "canada_percent"
   ]
  },
  {
   "cell_type": "code",
   "execution_count": 25,
   "metadata": {},
   "outputs": [
    {
     "data": {
      "text/plain": [
       "6.8642273964318115"
      ]
     },
     "execution_count": 25,
     "metadata": {},
     "output_type": "execute_result"
    }
   ],
   "source": [
    "australia_percent=(count_australia_filter/count_australia)*100\n",
    "australia_percent"
   ]
  },
  {
   "cell_type": "code",
   "execution_count": null,
   "metadata": {},
   "outputs": [],
   "source": [
    "#wines with scores higher than 88 points from each country"
   ]
  },
  {
   "cell_type": "code",
   "execution_count": null,
   "metadata": {},
   "outputs": [],
   "source": []
  },
  {
   "cell_type": "code",
   "execution_count": null,
   "metadata": {},
   "outputs": [],
   "source": [
    "#seperate (filterby) the wines that come from the USA and then breakdown by province \n",
    "us_wines=clean_wine_data[clean_wine_data.country==\"US\"]\n",
    "us_wine_provinces_count=us_wines[\"province\"].value_counts().tolist()\n",
    "us_wine_provinces_labels=us_wines[\"province\"].unique()\n",
    "\n",
    "# chart to show most popular province in the US for wine. BAR CHART?\n",
    "plt.bar(country_labels,country_count, color='b')\n",
    "plt.title(\"Country Count for Wine in Dataset\")\n",
    "plt.xlabel(\"Countries the Wines are from\")\n",
    "plt.ylabel(\"Country Frequency\")"
   ]
  },
  {
   "cell_type": "code",
   "execution_count": null,
   "metadata": {},
   "outputs": [],
   "source": [
    "#breakdown by region of California\n",
    "california_wine=clean_wine_data[clean_wine_data.province==\"California\"]\n",
    "cali_region_wine_count=california_wine[\"region_1\"].value_counts().tolist()\n",
    "cali_region_wine_labels=california_wine[\"region_1\"].unique()\n",
    "cali_region_len=len(cali_region_wine_labels)\n",
    "cali_region_len\n",
    "#chart or graph"
   ]
  },
  {
   "cell_type": "code",
   "execution_count": null,
   "metadata": {},
   "outputs": [],
   "source": []
  },
  {
   "cell_type": "code",
   "execution_count": null,
   "metadata": {},
   "outputs": [],
   "source": []
  },
  {
   "cell_type": "code",
   "execution_count": null,
   "metadata": {},
   "outputs": [],
   "source": []
  },
  {
   "cell_type": "code",
   "execution_count": null,
   "metadata": {},
   "outputs": [],
   "source": [
    "\n"
   ]
  },
  {
   "cell_type": "code",
   "execution_count": null,
   "metadata": {},
   "outputs": [],
   "source": []
  }
 ],
 "metadata": {
  "kernelspec": {
   "display_name": "Python 3",
   "language": "python",
   "name": "python3"
  },
  "language_info": {
   "codemirror_mode": {
    "name": "ipython",
    "version": 3
   },
   "file_extension": ".py",
   "mimetype": "text/x-python",
   "name": "python",
   "nbconvert_exporter": "python",
   "pygments_lexer": "ipython3",
   "version": "3.7.9"
  }
 },
 "nbformat": 4,
 "nbformat_minor": 4
}
